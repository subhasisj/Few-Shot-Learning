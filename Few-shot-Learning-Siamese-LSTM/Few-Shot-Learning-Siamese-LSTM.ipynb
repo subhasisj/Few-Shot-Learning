{
 "metadata": {
  "language_info": {
   "codemirror_mode": {
    "name": "ipython",
    "version": 3
   },
   "file_extension": ".py",
   "mimetype": "text/x-python",
   "name": "python",
   "nbconvert_exporter": "python",
   "pygments_lexer": "ipython3",
   "version": "3.8.5-final"
  },
  "orig_nbformat": 2,
  "kernelspec": {
   "name": "python3",
   "display_name": "Python 3.8.5 64-bit ('tfgpu': conda)",
   "metadata": {
    "interpreter": {
     "hash": "e34c0bc9b69c1b0596f3e1709587182c43fcb0062d3f9b48418fbc896b2a4b99"
    }
   }
  }
 },
 "nbformat": 4,
 "nbformat_minor": 2,
 "cells": [
  {
   "cell_type": "code",
   "execution_count": 42,
   "metadata": {},
   "outputs": [],
   "source": [
    "import pandas as pd \n",
    "import numpy as np \n",
    "import tensorflow as tf \n",
    "import itertools\n",
    "from zeugma import EmbeddingTransformer"
   ]
  },
  {
   "cell_type": "code",
   "execution_count": 5,
   "metadata": {},
   "outputs": [
    {
     "output_type": "execute_result",
     "data": {
      "text/plain": [
       "[PhysicalDevice(name='/physical_device:GPU:0', device_type='GPU')]"
      ]
     },
     "metadata": {},
     "execution_count": 5
    }
   ],
   "source": [
    "tf.config.list_physical_devices('GPU')"
   ]
  },
  {
   "cell_type": "code",
   "execution_count": 8,
   "metadata": {},
   "outputs": [],
   "source": [
    "df_train = pd.read_csv('./final_fewshot_train.csv')\n",
    "df_test = pd.read_csv('./final_fewshot_test.csv')\n",
    "df_train=df_train[['text','class']]\n",
    "df_test=df_test[['text','class']]"
   ]
  },
  {
   "cell_type": "code",
   "execution_count": 9,
   "metadata": {},
   "outputs": [
    {
     "output_type": "execute_result",
     "data": {
      "text/plain": [
       "                                             text  class\n",
       "0           [ALLUXIO-2743] Fix failing unit tests      1\n",
       "1             #2 Refactored structure of Argument      3\n",
       "2         Remove some features from JwtTokenStore      4\n",
       "3  Remove duplicated 1.613 section from changelog      2\n",
       "4                  * webapp structure refactoring      3"
      ],
      "text/html": "<div>\n<style scoped>\n    .dataframe tbody tr th:only-of-type {\n        vertical-align: middle;\n    }\n\n    .dataframe tbody tr th {\n        vertical-align: top;\n    }\n\n    .dataframe thead th {\n        text-align: right;\n    }\n</style>\n<table border=\"1\" class=\"dataframe\">\n  <thead>\n    <tr style=\"text-align: right;\">\n      <th></th>\n      <th>text</th>\n      <th>class</th>\n    </tr>\n  </thead>\n  <tbody>\n    <tr>\n      <th>0</th>\n      <td>[ALLUXIO-2743] Fix failing unit tests</td>\n      <td>1</td>\n    </tr>\n    <tr>\n      <th>1</th>\n      <td>#2 Refactored structure of Argument</td>\n      <td>3</td>\n    </tr>\n    <tr>\n      <th>2</th>\n      <td>Remove some features from JwtTokenStore</td>\n      <td>4</td>\n    </tr>\n    <tr>\n      <th>3</th>\n      <td>Remove duplicated 1.613 section from changelog</td>\n      <td>2</td>\n    </tr>\n    <tr>\n      <th>4</th>\n      <td>* webapp structure refactoring</td>\n      <td>3</td>\n    </tr>\n  </tbody>\n</table>\n</div>"
     },
     "metadata": {},
     "execution_count": 9
    }
   ],
   "source": [
    "df_train.head()"
   ]
  },
  {
   "cell_type": "code",
   "execution_count": 10,
   "metadata": {},
   "outputs": [
    {
     "output_type": "execute_result",
     "data": {
      "text/plain": [
       "       text\n",
       "class      \n",
       "1        20\n",
       "2        20\n",
       "3        20\n",
       "4        20\n",
       "5        20"
      ],
      "text/html": "<div>\n<style scoped>\n    .dataframe tbody tr th:only-of-type {\n        vertical-align: middle;\n    }\n\n    .dataframe tbody tr th {\n        vertical-align: top;\n    }\n\n    .dataframe thead th {\n        text-align: right;\n    }\n</style>\n<table border=\"1\" class=\"dataframe\">\n  <thead>\n    <tr style=\"text-align: right;\">\n      <th></th>\n      <th>text</th>\n    </tr>\n    <tr>\n      <th>class</th>\n      <th></th>\n    </tr>\n  </thead>\n  <tbody>\n    <tr>\n      <th>1</th>\n      <td>20</td>\n    </tr>\n    <tr>\n      <th>2</th>\n      <td>20</td>\n    </tr>\n    <tr>\n      <th>3</th>\n      <td>20</td>\n    </tr>\n    <tr>\n      <th>4</th>\n      <td>20</td>\n    </tr>\n    <tr>\n      <th>5</th>\n      <td>20</td>\n    </tr>\n  </tbody>\n</table>\n</div>"
     },
     "metadata": {},
     "execution_count": 10
    }
   ],
   "source": [
    "df_train.groupby('class').count()"
   ]
  },
  {
   "source": [
    "We have 20 examples each for 5 classes"
   ],
   "cell_type": "markdown",
   "metadata": {}
  },
  {
   "cell_type": "code",
   "execution_count": 12,
   "metadata": {},
   "outputs": [
    {
     "output_type": "stream",
     "name": "stdout",
     "text": [
      "<class 'pandas.core.frame.DataFrame'>\nRangeIndex: 3277 entries, 0 to 3276\nData columns (total 2 columns):\n #   Column  Non-Null Count  Dtype \n---  ------  --------------  ----- \n 0   text    3277 non-null   object\n 1   class   3277 non-null   int64 \ndtypes: int64(1), object(1)\nmemory usage: 51.3+ KB\n"
     ]
    }
   ],
   "source": [
    "df_test.info()"
   ]
  },
  {
   "cell_type": "code",
   "execution_count": 16,
   "metadata": {},
   "outputs": [
    {
     "output_type": "execute_result",
     "data": {
      "text/plain": [
       "array([1, 3, 4, 2, 5], dtype=int64)"
      ]
     },
     "metadata": {},
     "execution_count": 16
    }
   ],
   "source": [
    "labels = df_train['class'].unique()\n",
    "labels"
   ]
  },
  {
   "cell_type": "code",
   "execution_count": 38,
   "metadata": {},
   "outputs": [],
   "source": [
    "text_left = []\n",
    "text_right = []\n",
    "target = []\n",
    "\n",
    "\n",
    "for label in labels:\n",
    "    \n",
    "    similar_texts = df_train[df_train['class']==label]['text']\n",
    "    group_similar_texts = list(itertools.combinations(similar_texts,2))\n",
    "    \n",
    "    text_left.extend([group[0] for group in group_similar_texts])\n",
    "    text_right.extend([group[1] for group in group_similar_texts])\n",
    "    target.extend([1.]*len(group_similar_texts))\n",
    "\n",
    "    dissimilar_texts = df_train[df_train['class']!=label]['text']\n",
    "    for i in range(len(group_similar_texts)):\n",
    "        text_left.append(np.random.choice(similar_texts))\n",
    "        text_right.append(np.random.choice(dissimilar_texts))\n",
    "        target.append(0.)\n",
    "        \n",
    "dataset = pd.DataFrame({'text_left':text_left,\n",
    "                    'text_right':text_right,\n",
    "                    'target': target})"
   ]
  },
  {
   "cell_type": "code",
   "execution_count": 40,
   "metadata": {},
   "outputs": [
    {
     "output_type": "execute_result",
     "data": {
      "text/plain": [
       "                                              text_left  \\\n",
       "1289                        Remove duplicate code block   \n",
       "1850  CORE-2985 MSSQL Snapshot performance improvements   \n",
       "1515  Refactor test code, remove duplicates at Failo...   \n",
       "1446  No need to duplicate close method as it's alre...   \n",
       "1791  Improved performance on management of collections   \n",
       "1588  Improved performance on management of collections   \n",
       "834   Added tags and lines attributes to @Feature, m...   \n",
       "127   [Automation] - Fix test failure for test_02_re...   \n",
       "1893                       Further improve tag testing.   \n",
       "549   #935 - Refactor cache settings for structured ...   \n",
       "\n",
       "                                             text_right  target  \n",
       "1289  Unify and encapsulate deployment flow methods ...     1.0  \n",
       "1850  Fix for ISSUE 1111 (and 1112, which is a dupli...     0.0  \n",
       "1515                    #691 - Performance Improvements     0.0  \n",
       "1446  CORE-2985 MSSQL Snapshot performance improvements     0.0  \n",
       "1791  WFLY-6069 remove duplicate jipijapa module in ...     0.0  \n",
       "1588                      Tiny performance improvement.     1.0  \n",
       "834   no need now to get version from parent and bes...     1.0  \n",
       "127   Catch all exceptions when change engine and ro...     1.0  \n",
       "1893        Improve autosave and backup feature (#2194)     0.0  \n",
       "549   * Refactoring structure in to modules (mostly ...     1.0  "
      ],
      "text/html": "<div>\n<style scoped>\n    .dataframe tbody tr th:only-of-type {\n        vertical-align: middle;\n    }\n\n    .dataframe tbody tr th {\n        vertical-align: top;\n    }\n\n    .dataframe thead th {\n        text-align: right;\n    }\n</style>\n<table border=\"1\" class=\"dataframe\">\n  <thead>\n    <tr style=\"text-align: right;\">\n      <th></th>\n      <th>text_left</th>\n      <th>text_right</th>\n      <th>target</th>\n    </tr>\n  </thead>\n  <tbody>\n    <tr>\n      <th>1289</th>\n      <td>Remove duplicate code block</td>\n      <td>Unify and encapsulate deployment flow methods ...</td>\n      <td>1.0</td>\n    </tr>\n    <tr>\n      <th>1850</th>\n      <td>CORE-2985 MSSQL Snapshot performance improvements</td>\n      <td>Fix for ISSUE 1111 (and 1112, which is a dupli...</td>\n      <td>0.0</td>\n    </tr>\n    <tr>\n      <th>1515</th>\n      <td>Refactor test code, remove duplicates at Failo...</td>\n      <td>#691 - Performance Improvements</td>\n      <td>0.0</td>\n    </tr>\n    <tr>\n      <th>1446</th>\n      <td>No need to duplicate close method as it's alre...</td>\n      <td>CORE-2985 MSSQL Snapshot performance improvements</td>\n      <td>0.0</td>\n    </tr>\n    <tr>\n      <th>1791</th>\n      <td>Improved performance on management of collections</td>\n      <td>WFLY-6069 remove duplicate jipijapa module in ...</td>\n      <td>0.0</td>\n    </tr>\n    <tr>\n      <th>1588</th>\n      <td>Improved performance on management of collections</td>\n      <td>Tiny performance improvement.</td>\n      <td>1.0</td>\n    </tr>\n    <tr>\n      <th>834</th>\n      <td>Added tags and lines attributes to @Feature, m...</td>\n      <td>no need now to get version from parent and bes...</td>\n      <td>1.0</td>\n    </tr>\n    <tr>\n      <th>127</th>\n      <td>[Automation] - Fix test failure for test_02_re...</td>\n      <td>Catch all exceptions when change engine and ro...</td>\n      <td>1.0</td>\n    </tr>\n    <tr>\n      <th>1893</th>\n      <td>Further improve tag testing.</td>\n      <td>Improve autosave and backup feature (#2194)</td>\n      <td>0.0</td>\n    </tr>\n    <tr>\n      <th>549</th>\n      <td>#935 - Refactor cache settings for structured ...</td>\n      <td>* Refactoring structure in to modules (mostly ...</td>\n      <td>1.0</td>\n    </tr>\n  </tbody>\n</table>\n</div>"
     },
     "metadata": {},
     "execution_count": 40
    }
   ],
   "source": [
    "dataset.sample(10)"
   ]
  },
  {
   "cell_type": "code",
   "execution_count": 41,
   "metadata": {},
   "outputs": [
    {
     "output_type": "stream",
     "name": "stdout",
     "text": [
      "<class 'pandas.core.frame.DataFrame'>\nRangeIndex: 1900 entries, 0 to 1899\nData columns (total 3 columns):\n #   Column      Non-Null Count  Dtype  \n---  ------      --------------  -----  \n 0   text_left   1900 non-null   object \n 1   text_right  1900 non-null   object \n 2   target      1900 non-null   float64\ndtypes: float64(1), object(2)\nmemory usage: 44.7+ KB\n"
     ]
    }
   ],
   "source": [
    "dataset.info()"
   ]
  },
  {
   "source": [
    "From a training set of 100 samples were able to create 1900 samples for training the siamese network."
   ],
   "cell_type": "markdown",
   "metadata": {}
  },
  {
   "source": [
    "## Model"
   ],
   "cell_type": "markdown",
   "metadata": {}
  },
  {
   "cell_type": "code",
   "execution_count": 45,
   "metadata": {},
   "outputs": [],
   "source": [
    "glove  = EmbeddingTransformer('glove')"
   ]
  },
  {
   "cell_type": "code",
   "execution_count": 46,
   "metadata": {},
   "outputs": [
    {
     "output_type": "execute_result",
     "data": {
      "text/plain": [
       "25"
      ]
     },
     "metadata": {},
     "execution_count": 46
    }
   ],
   "source": [
    "glove.embedding_dimension"
   ]
  },
  {
   "cell_type": "code",
   "execution_count": 48,
   "metadata": {},
   "outputs": [],
   "source": [
    "embedding_layer = glove.model.get_keras_embedding()"
   ]
  },
  {
   "source": [
    "https://data4thought.com/fewshot_learning_nlp.html#Building-the-pairs-dataset"
   ],
   "cell_type": "markdown",
   "metadata": {}
  }
 ]
}